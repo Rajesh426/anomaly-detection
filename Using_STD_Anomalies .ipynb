{
 "cells": [
  {
   "cell_type": "code",
   "execution_count": 1,
   "metadata": {},
   "outputs": [
    {
     "name": "stdout",
     "output_type": "stream",
     "text": [
      "-39.60214850436046\n",
      "79.69401754390424\n"
     ]
    }
   ],
   "source": [
    "import numpy as np\n",
    "import matplotlib.pyplot as plt\n",
    "#seed(1)\n",
    "anomalies = []\n",
    "\n",
    "# multiply and add by random numbers to get some real values\n",
    "data = np.random.randn(50000)  * 20 + 20\n",
    "\n",
    "# Function to Detection Outlier on one-dimentional datasets.\n",
    "def find_anomalies(random_data):\n",
    "    # Set upper and lower limit to 3 standard deviation\n",
    "    random_data_std = np.std(random_data)\n",
    "    random_data_mean = np.mean(random_data)\n",
    "    anomaly_cut_off = random_data_std * 3\n",
    "    \n",
    "    lower_limit  = random_data_mean - anomaly_cut_off \n",
    "    upper_limit = random_data_mean + anomaly_cut_off\n",
    "    print(lower_limit)\n",
    "    print(upper_limit)\n",
    "    \n",
    "    # Generate outliers\n",
    "    for outlier in random_data:\n",
    "        if outlier > upper_limit or outlier < lower_limit:\n",
    "            anomalies.append(outlier)\n",
    "    return anomalies,random_data_mean, random_data_std, anomaly_cut_off\n",
    "\n",
    "[anomalies,random_data_mean, random_data_std, anomaly_cut_off]= find_anomalies(data)\n"
   ]
  },
  {
   "cell_type": "code",
   "execution_count": 2,
   "metadata": {},
   "outputs": [
    {
     "data": {
      "text/plain": [
       "[-59.349845482149064,\n",
       " -49.32846666702454,\n",
       " -41.09180865300915,\n",
       " 90.62682414334485,\n",
       " 85.4694168168981,\n",
       " 84.61057337108389,\n",
       " -49.61439091070885,\n",
       " -41.479672088166865,\n",
       " 81.09662292540865,\n",
       " 81.19841815137389,\n",
       " -40.01524031968427,\n",
       " -40.19868648060161,\n",
       " -41.78413483739469,\n",
       " -40.17560265763744,\n",
       " -55.53812664303254,\n",
       " -43.2726511581211,\n",
       " -56.48469694048556,\n",
       " 81.47285285626586,\n",
       " -43.876427143737466,\n",
       " -42.59675328283756,\n",
       " -58.4175725016384,\n",
       " 81.54319594414636,\n",
       " 83.04360778097363,\n",
       " -43.12578103207677,\n",
       " -39.61165383299047,\n",
       " 92.6978454458817,\n",
       " 81.76186053413858,\n",
       " 79.81433489647856,\n",
       " 82.78019793280616,\n",
       " 80.25466173878087,\n",
       " 83.09047386664527,\n",
       " 82.39937211276961,\n",
       " 89.99187884845709,\n",
       " 83.67144102186758,\n",
       " 83.39677682772499,\n",
       " 80.1469805981819,\n",
       " -59.369755003400584,\n",
       " -41.699559099796375,\n",
       " -42.21200219744354,\n",
       " 93.92120510457775,\n",
       " -49.989793562114414,\n",
       " 80.64970977765739,\n",
       " -44.50614215824665,\n",
       " 82.13671683109673,\n",
       " -41.71311476218559,\n",
       " -44.497218191074495,\n",
       " -39.673552079211134,\n",
       " 93.87103976196745,\n",
       " -64.23803435962851,\n",
       " 93.3231863485659,\n",
       " 83.34815934429601,\n",
       " -55.61790510983124,\n",
       " 81.94287016321873,\n",
       " 81.36631943588947,\n",
       " 86.75908934968706,\n",
       " -45.00521891551345,\n",
       " 87.93861870214084,\n",
       " 81.72865814924734,\n",
       " -53.350573750560756,\n",
       " 80.81950954376592,\n",
       " 80.32186162851718,\n",
       " -40.33137150221856,\n",
       " -40.88516014604061,\n",
       " 83.59976834943609,\n",
       " 80.99079197157857,\n",
       " 82.638589503888,\n",
       " 81.34139150884698,\n",
       " -52.93799524279392,\n",
       " 79.89749894241555,\n",
       " -43.026583170672154,\n",
       " -57.29149140066025,\n",
       " -41.163272899469696,\n",
       " 102.67419684027857,\n",
       " -47.68094217757208,\n",
       " -44.684671797278185,\n",
       " -43.27213388147562,\n",
       " -49.11667999807695,\n",
       " -48.80501074277868,\n",
       " -52.58356740145746,\n",
       " -40.46359942239984,\n",
       " 105.73113973617674,\n",
       " -41.85670242093237,\n",
       " -48.686779532450956,\n",
       " -46.23029262870534,\n",
       " -46.45521908090011,\n",
       " -44.533361386913754,\n",
       " 83.82126554777477,\n",
       " -42.78126009621544,\n",
       " 85.20680265532049,\n",
       " 89.35316174863856,\n",
       " 82.25518930065796,\n",
       " 87.91268938616338,\n",
       " 80.2482596288192,\n",
       " -42.099905811209204,\n",
       " 81.76863407690095,\n",
       " 81.09567001926924,\n",
       " -40.055748613932195,\n",
       " 90.22942542800737,\n",
       " 97.23020955985986,\n",
       " -51.872164369502286,\n",
       " -43.603275963942885,\n",
       " -48.793880773282325,\n",
       " -41.47056498027005,\n",
       " 97.58894207994231,\n",
       " -40.55834423447464,\n",
       " 80.35128997671016,\n",
       " 83.24778132149271,\n",
       " -40.04817636113128,\n",
       " 95.56425574702443,\n",
       " 86.57185835954323,\n",
       " -43.898001388873396,\n",
       " -40.20825783706666,\n",
       " 81.65108666694339,\n",
       " 85.42200817269132,\n",
       " -43.103171978958954,\n",
       " -41.75783460230237,\n",
       " -48.50181308451327,\n",
       " 81.05619708168297,\n",
       " 88.8467497106373,\n",
       " 83.31671031486854,\n",
       " 83.03237944393274,\n",
       " 80.69825564744544,\n",
       " -41.56737126439498,\n",
       " -41.05586734087771,\n",
       " -42.29888270105913,\n",
       " 83.50364925545355,\n",
       " -53.56375244019701,\n",
       " -39.99448442807481,\n",
       " 80.69956847382747,\n",
       " 79.69670437405603,\n",
       " -58.8928308812782,\n",
       " 87.04685703266134]"
      ]
     },
     "execution_count": 2,
     "metadata": {},
     "output_type": "execute_result"
    }
   ],
   "source": [
    "anomalies"
   ]
  },
  {
   "cell_type": "code",
   "execution_count": 5,
   "metadata": {},
   "outputs": [
    {
     "data": {
      "text/plain": [
       "<matplotlib.axes._subplots.AxesSubplot at 0x253dce2ac18>"
      ]
     },
     "execution_count": 5,
     "metadata": {},
     "output_type": "execute_result"
    },
    {
     "data": {
      "image/png": "[encoded data removed]",
      "text/plain": [
       "<Figure size 432x288 with 1 Axes>"
      ]
     },
     "metadata": {
      "needs_background": "light"
     },
     "output_type": "display_data"
    }
   ],
   "source": [
    "import seaborn as sns\n",
    "import matplotlib.pyplot as plt\n",
    "\n",
    "sns.boxplot(data)"
   ]
  },
  {
   "cell_type": "code",
   "execution_count": 7,
   "metadata": {},
   "outputs": [
    {
     "data": {
      "text/plain": [
       "119"
      ]
     },
     "execution_count": 7,
     "metadata": {},
     "output_type": "execute_result"
    }
   ],
   "source": [
    "from sklearn.cluster import DBSCAN\n",
    "\n",
    "random_data = np.random.randn(50000,2)  * 20 + 20\n",
    "\n",
    "outlier_detection = DBSCAN(min_samples = 2, eps = 3)\n",
    "clusters = outlier_detection.fit_predict(random_data)\n",
    "list(clusters).count(-1)"
   ]
  },
  {
   "cell_type": "code",
   "execution_count": 8,
   "metadata": {},
   "outputs": [
    {
     "data": {
      "text/plain": [
       "array([-1,  1, -1, ...,  1,  1,  1])"
      ]
     },
     "execution_count": 8,
     "metadata": {},
     "output_type": "execute_result"
    }
   ],
   "source": [
    "from sklearn.ensemble import IsolationForest\n",
    "import numpy as np\n",
    "np.random.seed(1)\n",
    "random_data = np.random.randn(50000,2)  * 20 + 20\n",
    "\n",
    "clf = IsolationForest( behaviour = 'new', max_samples=100, random_state = 1, contamination= 'auto')\n",
    "preds = clf.fit_predict(random_data)\n",
    "preds"
   ]
  },
  {
   "cell_type": "code",
   "execution_count": 10,
   "metadata": {},
   "outputs": [
    {
     "data": {
      "text/plain": [
       "(50000,)"
      ]
     },
     "execution_count": 10,
     "metadata": {},
     "output_type": "execute_result"
    }
   ],
   "source": [
    "preds.shape\n"
   ]
  },
  {
   "cell_type": "code",
   "execution_count": null,
   "metadata": {},
   "outputs": [],
   "source": []
  }
 ],
 "metadata": {
  "kernelspec": {
   "display_name": "Python 3",
   "language": "python",
   "name": "python3"
  },
  "language_info": {
   "codemirror_mode": {
    "name": "ipython",
    "version": 3
   },
   "file_extension": ".py",
   "mimetype": "text/x-python",
   "name": "python",
   "nbconvert_exporter": "python",
   "pygments_lexer": "ipython3",
   "version": "3.5.3rc1"
  }
 },
 "nbformat": 4,
 "nbformat_minor": 2
}
